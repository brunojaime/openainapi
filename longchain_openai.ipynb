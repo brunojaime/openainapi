{
 "cells": [
  {
   "cell_type": "code",
   "execution_count": 4,
   "metadata": {},
   "outputs": [],
   "source": [
    "from langchain_openai import OpenAI\n",
    "from dotenv import load_dotenv\n",
    "import os"
   ]
  },
  {
   "cell_type": "code",
   "execution_count": 32,
   "metadata": {},
   "outputs": [],
   "source": [
    "load_dotenv()\n",
    "\n",
    "#Getting the API\n",
    "openai_api_key = os.getenv(\"OPENAI_TOKEN\")\n",
    "\n",
    "#Initializing the client\n",
    "llm = OpenAI(api_key=openai_api_key)"
   ]
  },
  {
   "cell_type": "code",
   "execution_count": 33,
   "metadata": {},
   "outputs": [],
   "source": [
    "text = \"Cuales son las etapas en un sistema software?\"\n",
    "response = llm.invoke(text)"
   ]
  },
  {
   "cell_type": "code",
   "execution_count": 34,
   "metadata": {},
   "outputs": [
    {
     "data": {
      "text/plain": [
       "'\\n\\nLas etapas en un sistema software pueden variar dependiendo del modelo de desarrollo utilizado, pero a continuación se presentan las etapas más comunes en el ciclo de vida de un software:\\n\\n1. Análisis de requerimientos: En esta etapa se identifican y analizan las necesidades y objetivos del software a desarrollar, así como los requisitos y funcionalidades que debe cumplir.\\n\\n2. Diseño: En esta etapa se definen la arquitectura del sistema y se elabora un plan detallado de cómo se va a implementar el software.\\n\\n3. Codificación: En esta etapa se escribe el código de programación siguiendo el diseño previamente establecido.\\n\\n4. Pruebas: En esta etapa se realizan diferentes tipos de pruebas para detectar y corregir posibles errores o fallas en el software.\\n\\n5. Integración: En esta etapa se incorporan todos los componentes y módulos del software para formar un sistema completo.\\n\\n6. Implementación: En esta etapa se instala y pone en funcionamiento el software en el entorno de producción.\\n\\n7. Mantenimiento: En esta etapa se realiz'"
      ]
     },
     "execution_count": 34,
     "metadata": {},
     "output_type": "execute_result"
    }
   ],
   "source": [
    "response"
   ]
  },
  {
   "cell_type": "markdown",
   "metadata": {},
   "source": [
    "### Longchain with PDF"
   ]
  },
  {
   "cell_type": "markdown",
   "metadata": {},
   "source": [
    "#### Dividing the text in chunks"
   ]
  },
  {
   "cell_type": "code",
   "execution_count": 37,
   "metadata": {},
   "outputs": [],
   "source": [
    "from langchain.document_loaders import PyPDFLoader"
   ]
  },
  {
   "cell_type": "code",
   "execution_count": 39,
   "metadata": {},
   "outputs": [],
   "source": [
    "loader = PyPDFLoader(\"https://www.argentina.gob.ar/sites/default/files/constitucion_de_la_nacion_argentina.pdf\")"
   ]
  },
  {
   "cell_type": "code",
   "execution_count": 40,
   "metadata": {},
   "outputs": [
    {
     "name": "stderr",
     "output_type": "stream",
     "text": [
      "Ignoring wrong pointing object 9 0 (offset 0)\n",
      "Ignoring wrong pointing object 11 0 (offset 0)\n",
      "Ignoring wrong pointing object 13 0 (offset 0)\n",
      "Ignoring wrong pointing object 15 0 (offset 0)\n",
      "Ignoring wrong pointing object 17 0 (offset 0)\n",
      "Ignoring wrong pointing object 31 0 (offset 0)\n"
     ]
    }
   ],
   "source": [
    "chunks = loader.load_and_split()"
   ]
  },
  {
   "cell_type": "code",
   "execution_count": 41,
   "metadata": {},
   "outputs": [
    {
     "data": {
      "text/plain": [
       "28"
      ]
     },
     "execution_count": 41,
     "metadata": {},
     "output_type": "execute_result"
    }
   ],
   "source": [
    "len(chunks)"
   ]
  },
  {
   "cell_type": "code",
   "execution_count": 48,
   "metadata": {},
   "outputs": [
    {
     "data": {
      "text/plain": [
       "Document(metadata={'source': 'https://www.argentina.gob.ar/sites/default/files/constitucion_de_la_nacion_argentina.pdf', 'page': 7}, page_content='COMPENDIO ELECTORAL 2017 8\\nArtículo 59: Al Senado corresponde juzgar en juicio público a los acusados por la Cámara de Diputados, \\ndebiendo sus miembros prestar juramento para este acto. Cuando el acusado sea el presidente de la \\nNación, el Senado será presidido por el presidente de la Corte Suprema. Ninguno será declarado culpable \\nsino a mayoría de los dos tercios de los miembros presentes.\\nArtículo 60:  Su fallo no tendrá más efecto que destituir al acusado, y aun declararle incapaz de ocupar \\nningún empleo de honor, de confianza o a sueldo en la Nación. Pero la parte condenada quedará, no \\nobstante, sujeta a acusación, juicio y castigo conforme a las leyes ante los tribunales ordinarios.\\nArtículo 61:  Corresponde también al Senado autorizar al presidente de la Nación para que declare en \\nestado de sitio, uno o varios puntos de la República en caso de ataque exterior.\\nArtículo 62:  Cuando vacase alguna plaza de senador por muerte, renuncia u otra causa, el Gobierno a \\nque corresponda la vacante hace proceder inmediatamente a la elección de un nuevo miembro.\\nCAPITULO TERCERO\\nDISPOSICIONES COMUNES A AMBAS CÁMARAS\\nArtículo 63:  Ambas Cámaras se reunirán por sí mismas en sesiones ordinarias todos los años desde el \\nprimero de marzo hasta el treinta de noviembre. Pueden también ser convocadas extraordinariamente por \\nel Presidente de la Nación o prorrogadas sus sesiones.\\nArtículo 64:  Cada Cámara es juez de las elecciones, derechos y títulos de sus miembros en cuanto a \\nsu validez. Ninguna de ellas entrará en sesión sin la mayoría absoluta de sus miembros; pero un número \\nmenor podrá compeler a los miembros ausentes a que concurran a las sesiones, en los términos y bajo las \\npenas que cada Cámara establecerá.\\nArtículo 65:  Ambas Cámaras empiezan y concluyen sus sesiones simultáneamente. Ninguna de ellas, \\nmientras se hallen reunidas, podrá suspender sus sesiones más de tres días, sin el consentimiento de la \\notra.\\nArtículo 66:  Cada Cámara hará su reglamento y podrá con dos tercios de votos, corregir a cualquiera \\nde sus miembros por desorden de conducta en el ejercicio de sus funciones, o removerlo por inhabilidad \\nfísica o moral sobreviniente a su incorporación, y hasta excluirle de su seno; pero bastará la mayoría de uno \\nsobre la mitad de los presentes para decidir en las renuncias que voluntariamente hicieren de sus cargos.\\nArtículo 67:  Los senadores y diputados prestarán, en el acto de su incorporación, juramento de desempeñar \\ndebidamente el cargo, y de obrar en todo en conformidad a lo que prescribe esta Constitución.\\nArtículo 68:  Ninguno de los miembros del Congreso puede ser acusado, interrogado judicialmente, ni \\nmolestado por las opiniones o discursos que emita desempeñando su mandato de legislador.\\nArtículo 69:  Ningún senador o diputado, desde el día de su elección hasta el de su cese, puede ser \\narrestado; excepto el caso de ser sorprendido in fraganti en la ejecución de algún crimen que merezca pena \\nde muerte, infamante, u otra aflictiva; de lo que se dará cuenta a la Cámara respectiva con la información \\nsumaria del hecho.\\nArtículo 70:  Cuando se forme querella por escrito ante las justicias ordinarias contra cualquier senador o \\ndiputado, examinado el mérito del sumario en juicio público, podrá cada Cámara, con dos tercios de votos, \\nsuspender en sus funciones al acusado, y ponerlo a disposición del juez competente para su juzgamiento.\\nArtículo 71:  Cada una de las Cámaras puede hacer venir a su sala a los ministros del Poder Ejecutivo para \\nrecibir las explicaciones e informes que estime convenientes.\\nArtículo 72:  Ningún miembro del Congreso podrá recibir empleo o comisión del Poder Ejecutivo, sin')"
      ]
     },
     "execution_count": 48,
     "metadata": {},
     "output_type": "execute_result"
    }
   ],
   "source": [
    "chunks[9]"
   ]
  },
  {
   "cell_type": "code",
   "execution_count": 51,
   "metadata": {},
   "outputs": [],
   "source": [
    "from langchain.vectorstores import Chroma\n",
    "from langchain.embeddings.openai import OpenAIEmbeddings"
   ]
  },
  {
   "cell_type": "markdown",
   "metadata": {},
   "source": [
    "We create the database using the abstraction offered by langchain and the OpenAI embeddings"
   ]
  },
  {
   "cell_type": "code",
   "execution_count": 54,
   "metadata": {},
   "outputs": [],
   "source": [
    "embeddings = OpenAIEmbeddings(model=\"text-embedding-ada-002\", openai_api_key=openai_api_key)\n",
    "db = Chroma.from_documents(chunks,embeddings)\n"
   ]
  },
  {
   "cell_type": "markdown",
   "metadata": {},
   "source": [
    "Querying the database. This call will transform our query in an embedding, and will do similarity search"
   ]
  },
  {
   "cell_type": "code",
   "execution_count": 58,
   "metadata": {},
   "outputs": [],
   "source": [
    "query = \"Qué dice el articulo 14bis?\"\n",
    "docs = db.similarity_search(query)"
   ]
  },
  {
   "cell_type": "code",
   "execution_count": 59,
   "metadata": {},
   "outputs": [
    {
     "data": {
      "text/plain": [
       "[Document(metadata={'page': 19, 'source': 'https://www.argentina.gob.ar/sites/default/files/constitucion_de_la_nacion_argentina.pdf'}, page_content='COMPENDIO ELECTORAL 2017 20\\nque el Congreso los haya sancionado; ni dictar especialmente leyes sobre ciudadanía y naturalización, \\nbancarrotas, falsificación de moneda o documentos del Estado; ni establecer derechos de tonelaje; \\nni armar buques de guerra o levantar ejércitos, salvo el caso de invasión exterior o de un peligro tan \\ninminente que no admita dilación dando luego cuenta al Gobierno federal; ni nombrar o recibir agentes \\nextranjeros.\\nArtículo 127:  Ninguna provincia puede declarar, ni hacer la guerra a otra provincia. Sus quejas deben \\nser sometidas a la Corte Suprema de Justicia y dirimidas por ella. Sus hostilidades de hecho son actos de \\nguerra civil, calificados de sedición o asonada, que el Gobierno federal debe sofocar y reprimir conforme \\na la ley.\\nArtículo 128:  Los gobernadores de provincia son agentes naturales del Gobierno federal para hacer \\ncumplir la Constitución y las leyes de la Nación.\\nArtículo 129:  La ciudad de Buenos Aires tendrá un régimen de Gobierno autónomo con facultades propias \\nde legislación y jurisdicción, y su jefe de gobierno será elegido directamente por el pueblo de la ciudad.\\nUna ley garantizará los intereses del Estado nacional mientras la ciudad de Buenos Aires sea capital de \\nla Nación.\\nEn el marco de lo dispuesto en este artículo, el Congreso de la Nación convocará a los habitantes de la \\nciudad de Buenos Aires para que, mediante los representantes que elijan a ese efecto, dicten el estatuto \\norganizativo de sus instituciones.\\nDISPOSICIONES TRANSITORIAS\\nPrimera.  La Nación Argentina ratifica su legítima e imprescriptible soberanía sobre las islas Malvinas, \\nGeorgias del Sur y Sandwich del Sur y los espacios marítimos e insulares correspondientes, por ser parte \\nintegrante del territorio nacional.\\nLa recuperación de dichos territorios y el ejercicio pleno de la soberanía, respetando el modo de vida de \\nsus habitantes, y conforme a los principios del derecho internacional, constituyen un objetivo permanente \\ne irrenunciable del pueblo argentino.\\nSegunda.  Las acciones positivas a que alude el Artículo 37 en su último párrafo no podrán ser inferiores \\na las vigentes al tiempo de sancionarse esta Constitución y durarán lo que la ley determine.\\n(Corresponde al Artículo 37)\\nTercera.  La ley que reglamente el ejercicio de la iniciativa popular deberá ser aprobada dentro de los \\ndieciocho meses de esta sanción.\\n(Corresponde al Artículo 39)\\nCuarta.  Los actuales integrantes del Senado de la Nación desempeñarán su cargo hasta la extinción del \\nmandato correspondiente a cada uno.\\nEn ocasión de renovarse un tercio del Senado en mil novecientos noventa y cinco, por finalización de \\nlos mandatos de todos los senadores elegidos en mil novecientos ochenta y seis, será designado además \\nun tercer senador por distrito por cada Legislatura. El conjunto de los senadores por cada distrito se \\nintegrará, en lo posible, de modo que correspondan dos bancas al partido político o alianza electoral que \\ntenga el mayor número de miembros en la legislatura, y la restante al partido político o alianza electoral \\nque le siga en número de miembros de ella. En caso de empate, se hará prevalecer al partido político o \\nalianza electoral que hubiera obtenido mayor cantidad de sufragios en la elección legislativa provincial \\ninmediata anterior.\\nLa elección de los senadores que reemplacen a aquellos cuyos mandatos vencen en mil novecientos \\nnoventa y ocho, así como la elección de quien reemplace a cualquiera de los actuales senadores en caso \\nde aplicación del Artículo 62, se hará por estas mismas reglas de designación. Empero, el partido político \\no alianza electoral que tenga el mayor número de miembros en la Legislatura al tiempo de la elección del \\nsenador, tendrá derecho a que sea elegido su candidato, con la sola limitación de que no resulten los tres \\nsenadores de un mismo partido político o alianza electoral.'),\n",
       " Document(metadata={'page': 21, 'source': 'https://www.argentina.gob.ar/sites/default/files/constitucion_de_la_nacion_argentina.pdf'}, page_content='COMPENDIO ELECTORAL 2017 22\\nHasta tanto se aplicará el sistema vigente con anterioridad.\\n(Corresponde al Artículo 114)\\nDecimocuarta.  Las causas en trámite ante la Cámara de Diputados al momento de instalarse el Consejo \\nde la Magistratura, les serán remitidas a efectos del inc. 5 del Artículo 114. Las ingresadas en el Senado \\ncontinuarán allí hasta su terminación.\\n(Corresponde al Artículo 115)\\nDecimoquinta.  Hasta tanto se constituyan los poderes que surjan del nuevo régimen de autonomía de la \\nciudad de Buenos Aires, el Congreso ejercerá una legislación exclusiva sobre su territorio, en los mismos \\ntérminos que hasta la sanción de la presente.\\nEl jefe de Gobierno será elegido durante el año mil novecientos noventa y cinco.\\nLa ley prevista en los párrafos segundo y tercero del Artículo 129, deberá ser sancionada dentro del plazo \\nde doscientos setenta días a partir de la vigencia de esta Constitución\\nHasta tanto se haya dictado el estatuto organizativo la designación y remoción de los jueces de la ciudad \\nde Buenos Aires se regirá por las disposiciones de los arts. 114 y 115 de esta Constitución.\\n(Corresponde al Artículo 129)\\nDecimosexta.  Esta reforma entra en vigencia al día siguiente de su publicación. Los miembros de la \\nConvención Constituyente, el presidente de la Nación Argentina, los presidentes de las Cámaras Legislativas \\ny el presidente de la Corte Suprema de Justicia prestan juramento en un mismo acto el día 24 de agosto \\nde 1994, en el Palacio San José, Concepción del Uruguay, provincia de Entre Ríos.\\nCada poder del Estado y las autoridades provinciales y municipales disponen lo necesario para que sus \\nmiembros y funcionarios juren esta Constitución\\nDecimoséptima.  El texto constitucional ordenado, sancionado por esta Convención Constituyente, \\nreemplaza al hasta ahora vigente.\\nDADA EN LA SALA DE SESIONES DE LA CONVENCIÓN NACIONAL CONSTITUYENTE, EN LA CIUDAD \\nDE SANTA FE, A LOS VEINTIDÓS DÍAS DEL MES DE AGOSTO DEL AÑO MIL NOVECIENTOS NOVENTA \\nY CUATRO.\\nArtículo 2:  El texto transcripto en el Artículo 1º de la presente ley incluye todas las disposiciones \\nconstitucionales sancionadas por la Convención Nacional Constituyente reunida en las ciudades de Santa \\nFe y Paraná en el año 1994, comprendiendo como Artículo 77, segunda parte, la aprobada en la sesión del \\nprimero de agosto de 1994 que expresa:\\n\"Los proyectos de ley que modifiquen el régimen electoral y de partidos políticos deberán ser aprobados \\npor mayoría absoluta del total de los miembros de las Cámaras\".\\nArtículo 3:  Publíquese en el Boletín Oficial.\\nArtículo 4:  Comuníquese al Poder Ejecutivo\\nDADA EN LA SALA DE SESIONES DEL CONGRESO ARGENTINO, EN BUENOS AIRES, A LOS QUINCE \\nDIAS DEL MES DE DICIEMBRE DEL AÑO MIL NOVECIENTOS NOVENTA Y CUATRO.'),\n",
       " Document(metadata={'page': 5, 'source': 'https://www.argentina.gob.ar/sites/default/files/constitucion_de_la_nacion_argentina.pdf'}, page_content='COMPENDIO ELECTORAL 2017 6\\nLas autoridades proveerán a la protección de este derecho, a la utilización racional de los recursos \\nnaturales, a la preservación del patrimonio natural y cultural y de la diversidad biológica, y a la información \\ny educación ambientales.\\nCorresponde a la Nación dictar las normas que contengan los presupuestos mínimos de protección, y a \\nlas provincias, las necesarias para complementarlas, sin que aquéllas alteren las jurisdicciones locales.\\nSe prohíbe el ingreso al territorio nacional de residuos actual o potencialmente peligrosos, y de los \\nradiactivos.\\nArtículo 42:  Los consumidores y usuarios de bienes y servicios tienen derecho, en la relación de consumo, \\na la protección de su salud, seguridad e intereses económicos; a una información adecuada y veraz; a la \\nlibertad de elección, y a condiciones de trato equitativo y digno.\\nLas autoridades proveerán a la protección de esos derechos, a la educación para el consumo, a la defensa \\nde la competencia contra toda forma de distorsión de los mercados, al control de los monopolios naturales \\ny legales, al de la calidad y eficiencia de los servicios públicos, y a la constitución de asociaciones de \\nconsumidores y de usuarios.\\nLa legislación establecerá procedimientos eficaces para la prevención y solución de conflictos, y los \\nmarcos regulatorios de los servicios públicos de competencia nacional, previendo la necesaria participación \\nde las asociaciones de consumidores y usuarios y de las provincias interesadas, en los organismos de \\ncontrol.\\nArtículo 43:  Toda persona puede interponer acción expedita y rápida de amparo, siempre que no exista \\notro medio judicial más idóneo, contra todo acto u omisión de autoridades públicas o de particulares, que \\nen forma actual o inminente lesione, restrinja, altere o amenace, con arbitrariedad o ilegalidad manifiesta, \\nderechos y garantías reconocidos por esta Constitución, un tratado o una ley. En el caso, el juez podrá \\ndeclarar la inconstitucionalidad de la norma en que se funde el acto u omisión lesiva.\\nPodrán interponer esta acción contra cualquier forma de discriminación y en lo relativo a los derechos \\nque protegen al ambiente, a la competencia, al usuario y al consumidor, así como a los derechos de \\nincidencia colectiva en general, el afectado, el defensor del pueblo y las asociaciones que propendan a \\nesos fines, registradas conforme a la ley, la que determinará los requisitos y formas de su organización.\\nToda persona podrá interponer esta acción para tomar conocimiento de los datos a ella referidos y de \\nsu finalidad, que consten en registros o bancos de datos públicos, o los privados destinados a proveer \\ninformes, y en caso de falsedad o discriminación, para exigir la supresión, rectificación, confidencialidad o \\nactualización de aquéllos. No podrá afectarse el secreto de las fuentes de información periodística.\\nCuando el derecho lesionado, restringido, alterado o amenazado fuera la libertad física, o en caso \\nde agravamiento ilegítimo en la forma o condiciones de detención, o en el de desaparición forzada de \\npersonas, la acción de hábeas corpus podrá ser interpuesta por el afectado o por cualquiera en su favor y \\nel juez resolverá de inmediato, aun durante la vigencia del estado de sitio.\\nSEGUNDA PARTE\\nAUTORIDADES DE LA NACION\\nTITULO PRIMERO\\nGOBIERNO FEDERAL\\nSECCION PRIMERA\\nDEL PODER LEGISLATIVO\\nArtículo 44:  Un Congreso compuesto de dos Cámaras, una de Diputados de la Nación y otra de Senadores \\nde las provincias y de la ciudad de Buenos Aires, será investido del Poder Legislativo de la Nación.\\nCAPÍTULO PRIMERO\\nDE LA CÁMARA DE DIPUTADOS\\nArtículo 45:  La Cámara de Diputados se compondrá de representantes elegidos directamente por el \\npueblo de las provincias, de la ciudad de Buenos Aires, y de la Capital en caso de traslado, que se consideran'),\n",
       " Document(metadata={'page': 4, 'source': 'https://www.argentina.gob.ar/sites/default/files/constitucion_de_la_nacion_argentina.pdf'}, page_content='CONSTITUCION DE LA NACION ARGENTINA - LEY Nº 24.430 5\\nCAPÍTULO SEGUNDO\\nNUEVOS DERECHOS Y GARANTÍAS\\nArtículo 36:  Esta Constitución mantendrá su imperio aun cuando se interrumpiere su observancia por \\nactos de fuerza contra el orden institucional y el sistema democrático. Estos actos serán insanablemente \\nnulos.\\nSus autores serán pasibles de la sanción prevista en el Artículo 29, inhabilitados a perpetuidad para \\nocupar cargos públicos y excluidos de los beneficios del indulto y la conmutación de penas.\\nTendrán las mismas sanciones quienes, como consecuencia de estos actos, usurparen funciones previstas \\npara las autoridades de esta Constitución o las de las provincias, los que responderán civil y penalmente \\nde sus actos. Las acciones respectivas serán imprescriptibles.\\nTodos los ciudadanos tienen el derecho de resistencia contra quienes ejecutaren los actos de fuerza \\nenunciados en este artículo.\\nAtentará asimismo contra el sistema democrático quien incurriere en grave delito doloso contra el Estado \\nque conlleve enriquecimiento, quedando inhabilitado por el tiempo que las leyes determinen para ocupar \\ncargos o empleos públicos.\\nEl Congreso sancionará una ley sobre ética pública para el ejercicio de la función.\\nArtículo 37:  Esta Constitución garantiza el pleno ejercicio de los derechos políticos, con arreglo al \\nprincipio de la soberanía popular y de las leyes que se dicten en consecuencia. El sufragio es universal, \\nigual, secreto y obligatorio.\\nLa igualdad real de oportunidades entre varones y mujeres para el acceso a cargos electivos y partidarios \\nse garantizará por acciones positivas en la regulación de los partidos políticos y en el régimen electoral.\\nArtículo 38:  Los partidos políticos son instituciones fundamentales del sistema democrático.\\nSu creación y el ejercicio de sus actividades son libres dentro del respeto a esta Constitución, la que \\ngarantiza su organización y funcionamiento democráticos, la representación de las minorías, la competencia \\npara la postulación de candidatos a cargos públicos electivos, el acceso a la información pública y la \\ndifusión de sus ideas.\\nEl Estado contribuye al sostenimiento económico de sus actividades y de la capacitación de sus dirigentes.\\nLos partidos políticos deberán dar publicidad del origen y destino de sus fondos y patrimonio.\\nArtículo 39: Los ciudadanos tienen el derecho de iniciativa para presentar proyectos de ley en la Cámara \\nde Diputados. El Congreso deberá darles expreso tratamiento dentro del término de doce meses.\\nEl Congreso, con el voto de la mayoría absoluta de la totalidad de los miembros de cada Cámara, \\nsancionará una ley reglamentaria que no podrá exigir más del tres por ciento del padrón electoral nacional, \\ndentro del cual deberá contemplar una adecuada distribución territorial para suscribir la iniciativa.\\nNo serán objeto de iniciativa popular los proyectos referidos a reforma constitucional, tratados \\ninternacionales, tributos, presupuesto y materia penal.\\nArtículo 40:  El Congreso, a iniciativa de la Cámara de Diputados, podrá someter a consulta popular un \\nproyecto de ley. La ley de convocatoria no podrá ser vetada. El voto afirmativo del proyecto por el pueblo \\nde la Nación lo convertirá en ley y su promulgación será automática.\\nEl Congreso o el presidente de la Nación, dentro de sus respectivas competencias, podrán convocar a \\nconsulta popular no vinculante. En este caso el voto no será obligatorio.\\nEl Congreso, con el voto de la mayoría absoluta de la totalidad de los miembros de cada Cámara, \\nreglamentará las materias, procedimientos y oportunidad de la consulta popular.\\nArtículo 41:  Todos los habitantes gozan del derecho a un ambiente sano, equilibrado, apto para \\nel desarrollo humano y para que las actividades productivas satisfagan las necesidades presentes sin \\ncomprometer las de las generaciones futuras; y tienen el deber de preservarlo. El daño ambiental generará \\nprioritariamente la obligación de recomponer, según lo establezca la ley.')]"
      ]
     },
     "execution_count": 59,
     "metadata": {},
     "output_type": "execute_result"
    }
   ],
   "source": [
    "docs"
   ]
  },
  {
   "cell_type": "code",
   "execution_count": null,
   "metadata": {},
   "outputs": [],
   "source": []
  }
 ],
 "metadata": {
  "kernelspec": {
   "display_name": "mlvirtualenv",
   "language": "python",
   "name": "python3"
  },
  "language_info": {
   "codemirror_mode": {
    "name": "ipython",
    "version": 3
   },
   "file_extension": ".py",
   "mimetype": "text/x-python",
   "name": "python",
   "nbconvert_exporter": "python",
   "pygments_lexer": "ipython3",
   "version": "3.10.12"
  }
 },
 "nbformat": 4,
 "nbformat_minor": 2
}
